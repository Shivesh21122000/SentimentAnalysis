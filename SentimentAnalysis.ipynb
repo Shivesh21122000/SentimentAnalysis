{
  "nbformat": 4,
  "nbformat_minor": 0,
  "metadata": {
    "colab": {
      "name": "SentimentAnalysis.ipynb",
      "provenance": [],
      "authorship_tag": "ABX9TyPDGEQCClhe9HASsMuymdVC",
      "include_colab_link": true
    },
    "kernelspec": {
      "name": "python3",
      "display_name": "Python 3"
    }
  },
  "cells": [
    {
      "cell_type": "markdown",
      "metadata": {
        "id": "view-in-github",
        "colab_type": "text"
      },
      "source": [
        "<a href=\"https://colab.research.google.com/github/Shivesh21122000/SentimentAnalysis/blob/main/SentimentAnalysis.ipynb\" target=\"_parent\"><img src=\"https://colab.research.google.com/assets/colab-badge.svg\" alt=\"Open In Colab\"/></a>"
      ]
    },
    {
      "cell_type": "code",
      "metadata": {
        "colab": {
          "base_uri": "https://localhost:8080/"
        },
        "id": "isLIqj-dZhwz",
        "outputId": "650d0425-afa1-4837-c7cb-0a41d056226b"
      },
      "source": [
        "!pip install vaderSentiment"
      ],
      "execution_count": 2,
      "outputs": [
        {
          "output_type": "stream",
          "text": [
            "Collecting vaderSentiment\n",
            "\u001b[?25l  Downloading https://files.pythonhosted.org/packages/76/fc/310e16254683c1ed35eeb97386986d6c00bc29df17ce280aed64d55537e9/vaderSentiment-3.3.2-py2.py3-none-any.whl (125kB)\n",
            "\u001b[K     |████████████████████████████████| 133kB 4.2MB/s \n",
            "\u001b[?25hRequirement already satisfied: requests in /usr/local/lib/python3.6/dist-packages (from vaderSentiment) (2.23.0)\n",
            "Requirement already satisfied: certifi>=2017.4.17 in /usr/local/lib/python3.6/dist-packages (from requests->vaderSentiment) (2020.11.8)\n",
            "Requirement already satisfied: idna<3,>=2.5 in /usr/local/lib/python3.6/dist-packages (from requests->vaderSentiment) (2.10)\n",
            "Requirement already satisfied: chardet<4,>=3.0.2 in /usr/local/lib/python3.6/dist-packages (from requests->vaderSentiment) (3.0.4)\n",
            "Requirement already satisfied: urllib3!=1.25.0,!=1.25.1,<1.26,>=1.21.1 in /usr/local/lib/python3.6/dist-packages (from requests->vaderSentiment) (1.24.3)\n",
            "Installing collected packages: vaderSentiment\n",
            "Successfully installed vaderSentiment-3.3.2\n"
          ],
          "name": "stdout"
        }
      ]
    },
    {
      "cell_type": "code",
      "metadata": {
        "id": "K6esJc-asQTv"
      },
      "source": [
        "from vaderSentiment.vaderSentiment import SentimentIntensityAnalyzer\n",
        "vs = SentimentIntensityAnalyzer()"
      ],
      "execution_count": 3,
      "outputs": []
    },
    {
      "cell_type": "code",
      "metadata": {
        "colab": {
          "base_uri": "https://localhost:8080/"
        },
        "id": "ZpphiRxZtL_E",
        "outputId": "042e747c-9d8e-4d37-e7e7-47c16d4fa213"
      },
      "source": [
        "text=\"The book is really fantastic\"\n",
        "vs.polarity_scores(text)"
      ],
      "execution_count": 4,
      "outputs": [
        {
          "output_type": "execute_result",
          "data": {
            "text/plain": [
              "{'compound': 0.5984, 'neg': 0.0, 'neu': 0.507, 'pos': 0.493}"
            ]
          },
          "metadata": {
            "tags": []
          },
          "execution_count": 4
        }
      ]
    },
    {
      "cell_type": "markdown",
      "metadata": {
        "id": "Xd9qC_875BXm"
      },
      "source": [
        "#Now we are going to start web scrapping.... we will take data from \"Inshorts\" website. "
      ]
    },
    {
      "cell_type": "code",
      "metadata": {
        "id": "zbKRpAtbtVHM"
      },
      "source": [
        "import requests\n",
        "from bs4 import BeautifulSoup\n",
        "import pandas as pd\n",
        "import numpy as np"
      ],
      "execution_count": 5,
      "outputs": []
    },
    {
      "cell_type": "code",
      "metadata": {
        "id": "wBvznOwExEjF"
      },
      "source": [
        "urls=['https://inshorts.com/en/read/sports',\n",
        "      'https://inshorts.com/en/read/world',\n",
        "      'https://inshorts.com/en/read/politics']\n",
        "def build_dataset(urls):\n",
        "  news_data = []\n",
        "  for url in urls:\n",
        "    news_category = url.split('/')[-1]\n",
        "    data=requests.get(url)\n",
        "    soup = BeautifulSoup(data.content)\n",
        "\n",
        "    news_articles = [{'news_headline':headline.find('span',attrs={\"itemprop\":\"headline\"}).string,\n",
        "                      'news_article':article.find('div',attrs={\"itemprop\":\"articleBody\"}).string,\n",
        "                      'news_category':news_category}\n",
        "                    \n",
        "                     for headline,article in zip(soup.find_all('div',class_=[\"news-card-title news-right-box\"]),\n",
        "                                                soup.find_all('div',class_=[\"news-card-content news-right-box\"]))\n",
        "                     ]\n",
        "    news_articles = news_articles[0:20]\n",
        "    news_data.extend(news_articles)\n",
        "\n",
        "  df=pd.DataFrame(news_data)\n",
        "  df=df[['news_headline','news_article','news_category']]\n",
        "  return df"
      ],
      "execution_count": 7,
      "outputs": []
    },
    {
      "cell_type": "code",
      "metadata": {
        "colab": {
          "base_uri": "https://localhost:8080/",
          "height": 195
        },
        "id": "RCzvvm5Ge3EO",
        "outputId": "a1c3bee7-e5bb-499d-c535-eaf7d8bbe783"
      },
      "source": [
        "df = build_dataset(urls)\n",
        "df.head()"
      ],
      "execution_count": 8,
      "outputs": [
        {
          "output_type": "execute_result",
          "data": {
            "text/html": [
              "<div>\n",
              "<style scoped>\n",
              "    .dataframe tbody tr th:only-of-type {\n",
              "        vertical-align: middle;\n",
              "    }\n",
              "\n",
              "    .dataframe tbody tr th {\n",
              "        vertical-align: top;\n",
              "    }\n",
              "\n",
              "    .dataframe thead th {\n",
              "        text-align: right;\n",
              "    }\n",
              "</style>\n",
              "<table border=\"1\" class=\"dataframe\">\n",
              "  <thead>\n",
              "    <tr style=\"text-align: right;\">\n",
              "      <th></th>\n",
              "      <th>news_headline</th>\n",
              "      <th>news_article</th>\n",
              "      <th>news_category</th>\n",
              "    </tr>\n",
              "  </thead>\n",
              "  <tbody>\n",
              "    <tr>\n",
              "      <th>0</th>\n",
              "      <td>Concussion substitute Chahal takes 3 wickets a...</td>\n",
              "      <td>India defeated Australia by 11 runs in the fir...</td>\n",
              "      <td>sports</td>\n",
              "    </tr>\n",
              "    <tr>\n",
              "      <th>1</th>\n",
              "      <td>Australia question if Chahal was 'like-for-lik...</td>\n",
              "      <td>Australia have questioned whether Yuzvendra Ch...</td>\n",
              "      <td>sports</td>\n",
              "    </tr>\n",
              "    <tr>\n",
              "      <th>2</th>\n",
              "      <td>Langer seemingly objects to Jadeja's concussio...</td>\n",
              "      <td>Australia head coach Justin Langer seemingly o...</td>\n",
              "      <td>sports</td>\n",
              "    </tr>\n",
              "    <tr>\n",
              "      <th>3</th>\n",
              "      <td>Looks like your listening is partial: Kartik t...</td>\n",
              "      <td>A fan took to Twitter to accuse Murali Kartik ...</td>\n",
              "      <td>sports</td>\n",
              "    </tr>\n",
              "    <tr>\n",
              "      <th>4</th>\n",
              "      <td>Jadeja ruled out of remaining T20Is against Au...</td>\n",
              "      <td>Team India all-rounder Ravindra Jadeja has bee...</td>\n",
              "      <td>sports</td>\n",
              "    </tr>\n",
              "  </tbody>\n",
              "</table>\n",
              "</div>"
            ],
            "text/plain": [
              "                                       news_headline  ... news_category\n",
              "0  Concussion substitute Chahal takes 3 wickets a...  ...        sports\n",
              "1  Australia question if Chahal was 'like-for-lik...  ...        sports\n",
              "2  Langer seemingly objects to Jadeja's concussio...  ...        sports\n",
              "3  Looks like your listening is partial: Kartik t...  ...        sports\n",
              "4  Jadeja ruled out of remaining T20Is against Au...  ...        sports\n",
              "\n",
              "[5 rows x 3 columns]"
            ]
          },
          "metadata": {
            "tags": []
          },
          "execution_count": 8
        }
      ]
    },
    {
      "cell_type": "code",
      "metadata": {
        "colab": {
          "base_uri": "https://localhost:8080/"
        },
        "id": "8vQScqOKf2FT",
        "outputId": "bf9f4e77-404f-429a-fb4e-0619483c21f2"
      },
      "source": [
        " import nltk\n",
        " nltk.download('stopwords')\n",
        " stopword_list=nltk.corpus.stopwords.words('english')\n",
        " stopword_list.remove('not')\n",
        " stopword_list.remove('no')\n",
        " len(stopword_list)\n",
        " "
      ],
      "execution_count": 9,
      "outputs": [
        {
          "output_type": "stream",
          "text": [
            "[nltk_data] Downloading package stopwords to /root/nltk_data...\n",
            "[nltk_data]   Unzipping corpora/stopwords.zip.\n"
          ],
          "name": "stdout"
        },
        {
          "output_type": "execute_result",
          "data": {
            "text/plain": [
              "177"
            ]
          },
          "metadata": {
            "tags": []
          },
          "execution_count": 9
        }
      ]
    },
    {
      "cell_type": "code",
      "metadata": {
        "colab": {
          "base_uri": "https://localhost:8080/",
          "height": 35
        },
        "id": "ggZB_mVq1YOp",
        "outputId": "f1f50864-4bd5-43fd-cec4-7011a59a94ff"
      },
      "source": [
        "# Let remove html tags\n",
        "def html_tag(text):\n",
        "  soup = BeautifulSoup(text,'html.parser')\n",
        "  new_text = soup.get_text()\n",
        "  return new_text\n",
        "html_tag('<html><h1>hello how are you?</h1></html>')  "
      ],
      "execution_count": 10,
      "outputs": [
        {
          "output_type": "execute_result",
          "data": {
            "application/vnd.google.colaboratory.intrinsic+json": {
              "type": "string"
            },
            "text/plain": [
              "'hello how are you?'"
            ]
          },
          "metadata": {
            "tags": []
          },
          "execution_count": 10
        }
      ]
    },
    {
      "cell_type": "code",
      "metadata": {
        "colab": {
          "base_uri": "https://localhost:8080/"
        },
        "id": "SwK969z08s4w",
        "outputId": "d3920a27-ba48-4d8e-f299-221ce1e52186"
      },
      "source": [
        "# next step is to expand contraction\n",
        "!pip install contractions"
      ],
      "execution_count": 11,
      "outputs": [
        {
          "output_type": "stream",
          "text": [
            "Collecting contractions\n",
            "  Downloading https://files.pythonhosted.org/packages/00/92/a05b76a692ac08d470ae5c23873cf1c9a041532f1ee065e74b374f218306/contractions-0.0.25-py2.py3-none-any.whl\n",
            "Collecting textsearch\n",
            "  Downloading https://files.pythonhosted.org/packages/42/a8/03407021f9555043de5492a2bd7a35c56cc03c2510092b5ec018cae1bbf1/textsearch-0.0.17-py2.py3-none-any.whl\n",
            "Collecting Unidecode\n",
            "\u001b[?25l  Downloading https://files.pythonhosted.org/packages/d0/42/d9edfed04228bacea2d824904cae367ee9efd05e6cce7ceaaedd0b0ad964/Unidecode-1.1.1-py2.py3-none-any.whl (238kB)\n",
            "\u001b[K     |████████████████████████████████| 245kB 4.0MB/s \n",
            "\u001b[?25hCollecting pyahocorasick\n",
            "\u001b[?25l  Downloading https://files.pythonhosted.org/packages/f4/9f/f0d8e8850e12829eea2e778f1c90e3c53a9a799b7f412082a5d21cd19ae1/pyahocorasick-1.4.0.tar.gz (312kB)\n",
            "\u001b[K     |████████████████████████████████| 317kB 7.3MB/s \n",
            "\u001b[?25hBuilding wheels for collected packages: pyahocorasick\n",
            "  Building wheel for pyahocorasick (setup.py) ... \u001b[?25l\u001b[?25hdone\n",
            "  Created wheel for pyahocorasick: filename=pyahocorasick-1.4.0-cp36-cp36m-linux_x86_64.whl size=81701 sha256=20ec4f492e679dfb8b6e4b6115e4d8e1186371bf07afa61ef15ec6d6c884e0d9\n",
            "  Stored in directory: /root/.cache/pip/wheels/0a/90/61/87a55f5b459792fbb2b7ba6b31721b06ff5cf6bde541b40994\n",
            "Successfully built pyahocorasick\n",
            "Installing collected packages: Unidecode, pyahocorasick, textsearch, contractions\n",
            "Successfully installed Unidecode-1.1.1 contractions-0.0.25 pyahocorasick-1.4.0 textsearch-0.0.17\n"
          ],
          "name": "stdout"
        }
      ]
    },
    {
      "cell_type": "code",
      "metadata": {
        "colab": {
          "base_uri": "https://localhost:8080/",
          "height": 35
        },
        "id": "5Dm_yvPd9W__",
        "outputId": "410a924c-bcf0-4810-e009-7c499223a744"
      },
      "source": [
        "import contractions\n",
        "def contraction(text):\n",
        "  expand = contractions.fix(text)\n",
        "  return expand\n",
        "contraction(\"I'll do it, I'd think about this\")"
      ],
      "execution_count": 12,
      "outputs": [
        {
          "output_type": "execute_result",
          "data": {
            "application/vnd.google.colaboratory.intrinsic+json": {
              "type": "string"
            },
            "text/plain": [
              "'I will do it, I would think about this'"
            ]
          },
          "metadata": {
            "tags": []
          },
          "execution_count": 12
        }
      ]
    },
    {
      "cell_type": "code",
      "metadata": {
        "id": "zQX1VNG-9wVU",
        "colab": {
          "base_uri": "https://localhost:8080/",
          "height": 35
        },
        "outputId": "52932733-c779-46d8-c8b2-2ac0e87a26f3"
      },
      "source": [
        "# removing special characters\n",
        "import re\n",
        "def remove_sp(text):\n",
        "  pattern = r'[^A-Za-z0-9\\s]'\n",
        "  text = re.sub(pattern,'',text)\n",
        "  return text\n",
        "\n",
        "remove_sp(\"+#hello\")"
      ],
      "execution_count": 13,
      "outputs": [
        {
          "output_type": "execute_result",
          "data": {
            "application/vnd.google.colaboratory.intrinsic+json": {
              "type": "string"
            },
            "text/plain": [
              "'hello'"
            ]
          },
          "metadata": {
            "tags": []
          },
          "execution_count": 13
        }
      ]
    },
    {
      "cell_type": "code",
      "metadata": {
        "id": "pXe5XO5kCo9B"
      },
      "source": [
        "#removing stopwords\n",
        "from nltk.tokenize.toktok import ToktokTokenizer\n",
        "tokenizer = ToktokTokenizer()"
      ],
      "execution_count": 14,
      "outputs": []
    },
    {
      "cell_type": "code",
      "metadata": {
        "id": "wLwdCve4DzsP"
      },
      "source": [
        "def remove_stopwords(text):\n",
        "  tokens = tokenizer.tokenize(text)\n",
        "  tokens = [token.strip() for token in tokens]\n",
        "  filtered_tokens = [token for token in tokens if token not in stopword_list]\n",
        "  filtered_text = ' '.join(filtered_tokens)\n",
        "  return filtered_text\n"
      ],
      "execution_count": 15,
      "outputs": []
    },
    {
      "cell_type": "code",
      "metadata": {
        "colab": {
          "base_uri": "https://localhost:8080/",
          "height": 35
        },
        "id": "4MiU-1XPEVg3",
        "outputId": "1c1a83af-0d76-41c0-a923-3ab52828cd68"
      },
      "source": [
        "remove_stopwords(\"we are only ones left alive\")"
      ],
      "execution_count": 16,
      "outputs": [
        {
          "output_type": "execute_result",
          "data": {
            "application/vnd.google.colaboratory.intrinsic+json": {
              "type": "string"
            },
            "text/plain": [
              "'ones left alive'"
            ]
          },
          "metadata": {
            "tags": []
          },
          "execution_count": 16
        }
      ]
    },
    {
      "cell_type": "code",
      "metadata": {
        "colab": {
          "base_uri": "https://localhost:8080/",
          "height": 195
        },
        "id": "5KpffhT_EgZo",
        "outputId": "b3c9ab86-7b1c-4d51-b26a-4f71f9466131"
      },
      "source": [
        "#finally every preprocessing we have done.\n",
        "#1)Lower case...2)HTML tag...3)Contractions...4)Special Characters..5)Stop words\n",
        "\n",
        "df.news_headline = df.news_headline.apply(lambda x:x.lower())\n",
        "df.news_article = df.news_article.apply(lambda x:x.lower())\n",
        "\n",
        "df.news_headline = df.news_headline.apply(html_tag)\n",
        "df.news_article = df.news_article.apply(html_tag)\n",
        "\n",
        "df.news_headline = df.news_headline.apply(contraction)\n",
        "df.news_article = df.news_article.apply(contraction)\n",
        "\n",
        "df.news_headline = df.news_headline.apply(remove_sp)\n",
        "df.news_article = df.news_article.apply(remove_sp)\n",
        "\n",
        "df.news_headline = df.news_headline.apply(remove_stopwords)\n",
        "df.news_article = df.news_article.apply(remove_stopwords)\n",
        "\n",
        "df.head()"
      ],
      "execution_count": 17,
      "outputs": [
        {
          "output_type": "execute_result",
          "data": {
            "text/html": [
              "<div>\n",
              "<style scoped>\n",
              "    .dataframe tbody tr th:only-of-type {\n",
              "        vertical-align: middle;\n",
              "    }\n",
              "\n",
              "    .dataframe tbody tr th {\n",
              "        vertical-align: top;\n",
              "    }\n",
              "\n",
              "    .dataframe thead th {\n",
              "        text-align: right;\n",
              "    }\n",
              "</style>\n",
              "<table border=\"1\" class=\"dataframe\">\n",
              "  <thead>\n",
              "    <tr style=\"text-align: right;\">\n",
              "      <th></th>\n",
              "      <th>news_headline</th>\n",
              "      <th>news_article</th>\n",
              "      <th>news_category</th>\n",
              "    </tr>\n",
              "  </thead>\n",
              "  <tbody>\n",
              "    <tr>\n",
              "      <th>0</th>\n",
              "      <td>concussion substitute chahal takes 3 wickets i...</td>\n",
              "      <td>india defeated australia 11 runs first t20i ca...</td>\n",
              "      <td>sports</td>\n",
              "    </tr>\n",
              "    <tr>\n",
              "      <th>1</th>\n",
              "      <td>australia question chahal likeforlike concussi...</td>\n",
              "      <td>australia questioned whether yuzvendra chahal ...</td>\n",
              "      <td>sports</td>\n",
              "    </tr>\n",
              "    <tr>\n",
              "      <th>2</th>\n",
              "      <td>langer seemingly objects jadejas concussion su...</td>\n",
              "      <td>australia head coach justin langer seemingly o...</td>\n",
              "      <td>sports</td>\n",
              "    </tr>\n",
              "    <tr>\n",
              "      <th>3</th>\n",
              "      <td>looks like listening partial kartik fan critic...</td>\n",
              "      <td>fan took twitter accuse murali kartik lack res...</td>\n",
              "      <td>sports</td>\n",
              "    </tr>\n",
              "    <tr>\n",
              "      <th>4</th>\n",
              "      <td>jadeja ruled remaining t20is australia due con...</td>\n",
              "      <td>team india allrounder ravindra jadeja ruled re...</td>\n",
              "      <td>sports</td>\n",
              "    </tr>\n",
              "  </tbody>\n",
              "</table>\n",
              "</div>"
            ],
            "text/plain": [
              "                                       news_headline  ... news_category\n",
              "0  concussion substitute chahal takes 3 wickets i...  ...        sports\n",
              "1  australia question chahal likeforlike concussi...  ...        sports\n",
              "2  langer seemingly objects jadejas concussion su...  ...        sports\n",
              "3  looks like listening partial kartik fan critic...  ...        sports\n",
              "4  jadeja ruled remaining t20is australia due con...  ...        sports\n",
              "\n",
              "[5 rows x 3 columns]"
            ]
          },
          "metadata": {
            "tags": []
          },
          "execution_count": 17
        }
      ]
    },
    {
      "cell_type": "code",
      "metadata": {
        "id": "Sn8aqMV5GuvK"
      },
      "source": [
        "df['compound'] = df['news_article'].apply(lambda x: vs.polarity_scores(x)['compound'])"
      ],
      "execution_count": 23,
      "outputs": []
    },
    {
      "cell_type": "code",
      "metadata": {
        "colab": {
          "base_uri": "https://localhost:8080/",
          "height": 195
        },
        "id": "Bddlj-5fHEmI",
        "outputId": "2a3411bb-9519-4854-9dc1-ecb1f622d4fd"
      },
      "source": [
        "df.head()"
      ],
      "execution_count": 24,
      "outputs": [
        {
          "output_type": "execute_result",
          "data": {
            "text/html": [
              "<div>\n",
              "<style scoped>\n",
              "    .dataframe tbody tr th:only-of-type {\n",
              "        vertical-align: middle;\n",
              "    }\n",
              "\n",
              "    .dataframe tbody tr th {\n",
              "        vertical-align: top;\n",
              "    }\n",
              "\n",
              "    .dataframe thead th {\n",
              "        text-align: right;\n",
              "    }\n",
              "</style>\n",
              "<table border=\"1\" class=\"dataframe\">\n",
              "  <thead>\n",
              "    <tr style=\"text-align: right;\">\n",
              "      <th></th>\n",
              "      <th>news_headline</th>\n",
              "      <th>news_article</th>\n",
              "      <th>news_category</th>\n",
              "      <th>compound</th>\n",
              "    </tr>\n",
              "  </thead>\n",
              "  <tbody>\n",
              "    <tr>\n",
              "      <th>0</th>\n",
              "      <td>concussion substitute chahal takes 3 wickets i...</td>\n",
              "      <td>india defeated australia 11 runs first t20i ca...</td>\n",
              "      <td>sports</td>\n",
              "      <td>-0.5707</td>\n",
              "    </tr>\n",
              "    <tr>\n",
              "      <th>1</th>\n",
              "      <td>australia question chahal likeforlike concussi...</td>\n",
              "      <td>australia questioned whether yuzvendra chahal ...</td>\n",
              "      <td>sports</td>\n",
              "      <td>-0.1027</td>\n",
              "    </tr>\n",
              "    <tr>\n",
              "      <th>2</th>\n",
              "      <td>langer seemingly objects jadejas concussion su...</td>\n",
              "      <td>australia head coach justin langer seemingly o...</td>\n",
              "      <td>sports</td>\n",
              "      <td>0.4215</td>\n",
              "    </tr>\n",
              "    <tr>\n",
              "      <th>3</th>\n",
              "      <td>looks like listening partial kartik fan critic...</td>\n",
              "      <td>fan took twitter accuse murali kartik lack res...</td>\n",
              "      <td>sports</td>\n",
              "      <td>0.7096</td>\n",
              "    </tr>\n",
              "    <tr>\n",
              "      <th>4</th>\n",
              "      <td>jadeja ruled remaining t20is australia due con...</td>\n",
              "      <td>team india allrounder ravindra jadeja ruled re...</td>\n",
              "      <td>sports</td>\n",
              "      <td>0.0000</td>\n",
              "    </tr>\n",
              "  </tbody>\n",
              "</table>\n",
              "</div>"
            ],
            "text/plain": [
              "                                       news_headline  ... compound\n",
              "0  concussion substitute chahal takes 3 wickets i...  ...  -0.5707\n",
              "1  australia question chahal likeforlike concussi...  ...  -0.1027\n",
              "2  langer seemingly objects jadejas concussion su...  ...   0.4215\n",
              "3  looks like listening partial kartik fan critic...  ...   0.7096\n",
              "4  jadeja ruled remaining t20is australia due con...  ...   0.0000\n",
              "\n",
              "[5 rows x 4 columns]"
            ]
          },
          "metadata": {
            "tags": []
          },
          "execution_count": 24
        }
      ]
    },
    {
      "cell_type": "code",
      "metadata": {
        "id": "vmnVeiLMHRuw"
      },
      "source": [
        "df['sentiment'] = df['compound'].apply(lambda x: 'Positive' if(x>0.05) else ('Neutral' if(x>-0.5 and x<0.05) else 'Negative'))"
      ],
      "execution_count": 32,
      "outputs": []
    },
    {
      "cell_type": "code",
      "metadata": {
        "colab": {
          "base_uri": "https://localhost:8080/",
          "height": 195
        },
        "id": "fPA8ctgwh3Lq",
        "outputId": "ae7c68aa-5972-4ec5-c4cb-4f77457baecf"
      },
      "source": [
        "df.head()"
      ],
      "execution_count": 33,
      "outputs": [
        {
          "output_type": "execute_result",
          "data": {
            "text/html": [
              "<div>\n",
              "<style scoped>\n",
              "    .dataframe tbody tr th:only-of-type {\n",
              "        vertical-align: middle;\n",
              "    }\n",
              "\n",
              "    .dataframe tbody tr th {\n",
              "        vertical-align: top;\n",
              "    }\n",
              "\n",
              "    .dataframe thead th {\n",
              "        text-align: right;\n",
              "    }\n",
              "</style>\n",
              "<table border=\"1\" class=\"dataframe\">\n",
              "  <thead>\n",
              "    <tr style=\"text-align: right;\">\n",
              "      <th></th>\n",
              "      <th>news_headline</th>\n",
              "      <th>news_article</th>\n",
              "      <th>news_category</th>\n",
              "      <th>compound</th>\n",
              "      <th>sentiment</th>\n",
              "    </tr>\n",
              "  </thead>\n",
              "  <tbody>\n",
              "    <tr>\n",
              "      <th>0</th>\n",
              "      <td>concussion substitute chahal takes 3 wickets i...</td>\n",
              "      <td>india defeated australia 11 runs first t20i ca...</td>\n",
              "      <td>sports</td>\n",
              "      <td>-0.5707</td>\n",
              "      <td>Negative</td>\n",
              "    </tr>\n",
              "    <tr>\n",
              "      <th>1</th>\n",
              "      <td>australia question chahal likeforlike concussi...</td>\n",
              "      <td>australia questioned whether yuzvendra chahal ...</td>\n",
              "      <td>sports</td>\n",
              "      <td>-0.1027</td>\n",
              "      <td>Neutral</td>\n",
              "    </tr>\n",
              "    <tr>\n",
              "      <th>2</th>\n",
              "      <td>langer seemingly objects jadejas concussion su...</td>\n",
              "      <td>australia head coach justin langer seemingly o...</td>\n",
              "      <td>sports</td>\n",
              "      <td>0.4215</td>\n",
              "      <td>Positive</td>\n",
              "    </tr>\n",
              "    <tr>\n",
              "      <th>3</th>\n",
              "      <td>looks like listening partial kartik fan critic...</td>\n",
              "      <td>fan took twitter accuse murali kartik lack res...</td>\n",
              "      <td>sports</td>\n",
              "      <td>0.7096</td>\n",
              "      <td>Positive</td>\n",
              "    </tr>\n",
              "    <tr>\n",
              "      <th>4</th>\n",
              "      <td>jadeja ruled remaining t20is australia due con...</td>\n",
              "      <td>team india allrounder ravindra jadeja ruled re...</td>\n",
              "      <td>sports</td>\n",
              "      <td>0.0000</td>\n",
              "      <td>Neutral</td>\n",
              "    </tr>\n",
              "  </tbody>\n",
              "</table>\n",
              "</div>"
            ],
            "text/plain": [
              "                                       news_headline  ... sentiment\n",
              "0  concussion substitute chahal takes 3 wickets i...  ...  Negative\n",
              "1  australia question chahal likeforlike concussi...  ...   Neutral\n",
              "2  langer seemingly objects jadejas concussion su...  ...  Positive\n",
              "3  looks like listening partial kartik fan critic...  ...  Positive\n",
              "4  jadeja ruled remaining t20is australia due con...  ...   Neutral\n",
              "\n",
              "[5 rows x 5 columns]"
            ]
          },
          "metadata": {
            "tags": []
          },
          "execution_count": 33
        }
      ]
    },
    {
      "cell_type": "markdown",
      "metadata": {
        "id": "a5mmSCUZ4D6n"
      },
      "source": [
        "# In this project we have done -\n",
        "# Web Scrapping\n",
        "# Data Preproccessing\n",
        "## Analysis and Prediction\n"
      ]
    },
    {
      "cell_type": "code",
      "metadata": {
        "id": "gNRqIWgP4xuj"
      },
      "source": [
        ""
      ],
      "execution_count": null,
      "outputs": []
    }
  ]
}